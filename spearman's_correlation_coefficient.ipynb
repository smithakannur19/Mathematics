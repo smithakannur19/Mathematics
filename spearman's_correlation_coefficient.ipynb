{
 "cells": [
  {
   "cell_type": "code",
   "execution_count": 1,
   "metadata": {},
   "outputs": [],
   "source": [
    "import pandas as pd\n",
    "import numpy as np"
   ]
  },
  {
   "cell_type": "markdown",
   "metadata": {},
   "source": [
    "**There are two methods to calculate Spearman's correlation depending on whether: <br/>**\n",
    "**1. data does not have tied ranks or <br/>**\n",
    "**2. data has tied ranks. <br/>**"
   ]
  },
  {
   "cell_type": "markdown",
   "metadata": {},
   "source": [
    "# Data does not have tied ranks."
   ]
  },
  {
   "cell_type": "code",
   "execution_count": 2,
   "metadata": {},
   "outputs": [],
   "source": [
    "english = [56,75,45,71,62,64,58,80,76,61]\n",
    "maths = [66,70,40,60,65,56,59,77,67,63]"
   ]
  },
  {
   "cell_type": "code",
   "execution_count": 3,
   "metadata": {},
   "outputs": [
    {
     "data": {
      "text/html": [
       "<div>\n",
       "<style scoped>\n",
       "    .dataframe tbody tr th:only-of-type {\n",
       "        vertical-align: middle;\n",
       "    }\n",
       "\n",
       "    .dataframe tbody tr th {\n",
       "        vertical-align: top;\n",
       "    }\n",
       "\n",
       "    .dataframe thead th {\n",
       "        text-align: right;\n",
       "    }\n",
       "</style>\n",
       "<table border=\"1\" class=\"dataframe\">\n",
       "  <thead>\n",
       "    <tr style=\"text-align: right;\">\n",
       "      <th></th>\n",
       "      <th>english</th>\n",
       "      <th>maths</th>\n",
       "    </tr>\n",
       "  </thead>\n",
       "  <tbody>\n",
       "    <tr>\n",
       "      <th>0</th>\n",
       "      <td>56</td>\n",
       "      <td>66</td>\n",
       "    </tr>\n",
       "    <tr>\n",
       "      <th>1</th>\n",
       "      <td>75</td>\n",
       "      <td>70</td>\n",
       "    </tr>\n",
       "    <tr>\n",
       "      <th>2</th>\n",
       "      <td>45</td>\n",
       "      <td>40</td>\n",
       "    </tr>\n",
       "    <tr>\n",
       "      <th>3</th>\n",
       "      <td>71</td>\n",
       "      <td>60</td>\n",
       "    </tr>\n",
       "    <tr>\n",
       "      <th>4</th>\n",
       "      <td>62</td>\n",
       "      <td>65</td>\n",
       "    </tr>\n",
       "  </tbody>\n",
       "</table>\n",
       "</div>"
      ],
      "text/plain": [
       "   english  maths\n",
       "0       56     66\n",
       "1       75     70\n",
       "2       45     40\n",
       "3       71     60\n",
       "4       62     65"
      ]
     },
     "execution_count": 3,
     "metadata": {},
     "output_type": "execute_result"
    }
   ],
   "source": [
    "marks = pd.DataFrame()\n",
    "marks[\"english\"] = english\n",
    "marks[\"maths\"] = maths\n",
    "marks.head()"
   ]
  },
  {
   "cell_type": "code",
   "execution_count": 61,
   "metadata": {},
   "outputs": [],
   "source": [
    "def rank(feature):\n",
    "    sorted_feature = sorted(list(set(list(feature))), reverse=True)\n",
    "    sorted_feature_dict = {key: value for value, key in enumerate(sorted_feature, start=1)}\n",
    "    rank_feature = list(feature.map(sorted_feature_dict))\n",
    "    rank_feature_df = pd.DataFrame(rank_feature, columns=[feature.name+\"_rank\"])\n",
    "    return rank_feature_df\n",
    "\n",
    "def difference_squared(df):\n",
    "    df[\"d\"] = (df.iloc[:,0] - df.iloc[:,1]).abs()\n",
    "    df[\"d^2\"] = df[\"d\"]**2\n",
    "    d_squa_sum = df[\"d^2\"].sum()\n",
    "    length = len(df[\"d^2\"])\n",
    "    return df, d_squa_sum, length\n",
    "\n",
    "def spearman_corr_coeff(d_square_sum, n):\n",
    "    numerator = (6*d_square_sum)\n",
    "    denominator = (n*((n**2)-1))\n",
    "    coeff = 1-(numerator/denominator)\n",
    "    return coeff\n",
    "\n",
    "def get_rank_df(columns_name, df):\n",
    "    \"\"\"\n",
    "    params: df is the dataframe, \n",
    "            columns_name is list of column names for which rank needs to be computed.\n",
    "    returns df along with computed ranks for the columns.\n",
    "    \"\"\" \n",
    "    # computing rank\n",
    "    features_list = [df[cols] for cols in columns_name]\n",
    "    rank_feature_list = list(map(rank, features_list))\n",
    "    \n",
    "    rank_df = pd.concat(rank_feature_list, axis=1)\n",
    "    \n",
    "    # computing difference and difference squared\n",
    "    differenc_squared_df, d_sq_sum, n = difference_squared(rank_df)\n",
    "    \n",
    "    # compute spearman correlation coeffecient\n",
    "    sp_coeff = spearman_corr_coeff(d_sq_sum, n)\n",
    "    \n",
    "    frames = [df, differenc_squared_df]\n",
    "    final_rank_df = pd.concat(frames, axis=1)\n",
    "    \n",
    "    return final_rank_df, sp_coeff"
   ]
  },
  {
   "cell_type": "code",
   "execution_count": 62,
   "metadata": {},
   "outputs": [
    {
     "name": "stdout",
     "output_type": "stream",
     "text": [
      "   english  maths  english_rank  maths_rank  d  d^2\n",
      "0       56     66             9           4  5   25\n",
      "1       75     70             3           2  1    1\n",
      "2       45     40            10          10  0    0\n",
      "3       71     60             4           7  3    9\n",
      "4       62     65             6           5  1    1\n",
      "5       64     56             5           9  4   16\n",
      "6       58     59             8           8  0    0\n",
      "7       80     77             1           1  0    0\n",
      "8       76     67             2           3  1    1\n",
      "9       61     63             7           6  1    1\n",
      "\n",
      "Spearman Correlation Coefficient 0.6727272727272727\n"
     ]
    }
   ],
   "source": [
    "columns_name = [\"english\", \"maths\"]\n",
    "result_df, spearman_coeff = get_rank_df(columns_name, marks)\n",
    "print(result_df)\n",
    "print(\"\\nSpearman Correlation Coefficient\",spearman_coeff)"
   ]
  },
  {
   "cell_type": "code",
   "execution_count": null,
   "metadata": {},
   "outputs": [],
   "source": []
  }
 ],
 "metadata": {
  "kernelspec": {
   "display_name": "TensorFlow-GPU-2.1.0",
   "language": "python",
   "name": "tf-gpu"
  },
  "language_info": {
   "codemirror_mode": {
    "name": "ipython",
    "version": 3
   },
   "file_extension": ".py",
   "mimetype": "text/x-python",
   "name": "python",
   "nbconvert_exporter": "python",
   "pygments_lexer": "ipython3",
   "version": "3.7.9"
  }
 },
 "nbformat": 4,
 "nbformat_minor": 4
}
